{
 "cells": [
  {
   "cell_type": "code",
   "execution_count": 3,
   "id": "3feeb050-581d-4bff-9002-90e1dae36857",
   "metadata": {},
   "outputs": [],
   "source": [
    "import pandas as pd\n",
    "import numpy as np\n",
    "import matplotlib.pyplot as plt\n",
    "import sqlite3\n",
    "import requests\n",
    "from sklearn.preprocessing import MinMaxScaler, StandardScaler\n",
    "from sklearn.feature_extraction.text import TfidfVectorizer\n",
    "from sklearn.cluster import KMeans\n",
    "from sklearn.metrics import mean_squared_error\n",
    "from surprise import Dataset, Reader\n",
    "from surprise import KNNBasic\n",
    "from surprise import accuracy\n",
    "from surprise.model_selection import GridSearchCV\n",
    "from surprise.model_selection import cross_validate\n",
    "from pyspark.ml.recommendation import ALS\n",
    "from pyspark.ml.evaluation import RegressionEvaluator\n",
    "from tensorflow.keras.models import Sequential\n",
    "from tensorflow.keras.layers import Embedding, Flatten, Dense\n",
    "from tensorflow import keras\n",
    "from tensorflow.keras import layers\n",
    "import random"
   ]
  },
  {
   "cell_type": "code",
   "execution_count": null,
   "id": "b0b119da-02e0-4923-aae2-e9e3682a512e",
   "metadata": {},
   "outputs": [],
   "source": [
    "user_activity_log = pd.read_csv('user_activity.log')"
   ]
  },
  {
   "cell_type": "code",
   "execution_count": null,
   "id": "4b2fb76f-f0d1-476e-98f5-cc6880de8be6",
   "metadata": {},
   "outputs": [],
   "source": [
    "conn = sqlite3.connect('movies.db')\n",
    "query = \"SELECT * FROM movies\"\n",
    "movies_data = pd.read_sql_query(query, conn)"
   ]
  },
  {
   "cell_type": "code",
   "execution_count": null,
   "id": "a9c3c2ec-1a15-4b06-bdba-f617682abf54",
   "metadata": {},
   "outputs": [],
   "source": [
    "api_url = \"https://api.example.com/data\"\n",
    "response = requests.get(api_url)\n",
    "\n",
    "if response.status_code == 200:\n",
    "    data = response.json()\n",
    "    # Обработка данных\n",
    "else:\n",
    "    print(\"Ошибка при запросе данных.\")"
   ]
  },
  {
   "cell_type": "code",
   "execution_count": null,
   "id": "a25feb0d-3783-431f-b540-914d2031e790",
   "metadata": {},
   "outputs": [],
   "source": [
    "# Создание SQLite базы данных и сохранения данных\n",
    "conn = sqlite3.connect('recommendation_data.db')\n",
    "data.to_sql('user_activity', conn, if_exists='replace')"
   ]
  },
  {
   "cell_type": "code",
   "execution_count": null,
   "id": "90a5b0b5-aa9b-4ca1-ab55-1c965d4610a2",
   "metadata": {},
   "outputs": [],
   "source": [
    "data = data.drop_duplicates()"
   ]
  },
  {
   "cell_type": "code",
   "execution_count": null,
   "id": "f26361a3-3e58-42c4-8ab9-5171c0b9abc1",
   "metadata": {},
   "outputs": [],
   "source": [
    "scaler = MinMaxScaler()\n",
    "data['rating'] = scaler.fit_transform(data['rating'].values.reshape(-1, 1))"
   ]
  },
  {
   "cell_type": "code",
   "execution_count": null,
   "id": "f56e0b0e-4d39-4343-a0f4-f5f0dd45cbc8",
   "metadata": {},
   "outputs": [],
   "source": [
    "# Извлечение признаков\n",
    "tfidf_vectorizer = TfidfVectorizer()\n",
    "tfidf_matrix = tfidf_vectorizer.fit_transform(data['description'])"
   ]
  },
  {
   "cell_type": "code",
   "execution_count": null,
   "id": "cff8d6a5-abce-4088-81ba-3688d44766ae",
   "metadata": {},
   "outputs": [],
   "source": [
    "ratings = np.random.randint(1, 6, 1000)"
   ]
  },
  {
   "cell_type": "code",
   "execution_count": null,
   "id": "cf6b0504-1450-466a-85ef-d6d1c5c5529c",
   "metadata": {},
   "outputs": [],
   "source": [
    "plt.hist(ratings, bins=5, alpha=0.75, rwidth=0.85, color='b')\n",
    "plt.xlabel('Рейтинг')\n",
    "plt.ylabel('Количество оценок')\n",
    "plt.title('Распределение рейтингов пользователей')\n",
    "plt.show()"
   ]
  },
  {
   "cell_type": "code",
   "execution_count": null,
   "id": "57f0d229-ef27-4e2f-9cb9-8824fa0c11d1",
   "metadata": {},
   "outputs": [],
   "source": [
    "data = {\n",
    "    'Пользователь A': [4, 3, 5, 2, 1],\n",
    "    'Пользователь B': [5, 4, 4, 1, 2]\n",
    "}\n",
    "df = pd.DataFrame(data)"
   ]
  },
  {
   "cell_type": "code",
   "execution_count": null,
   "id": "9022e957-6d82-4f8d-b6cb-42a492259f90",
   "metadata": {},
   "outputs": [],
   "source": [
    "correlation_matrix = df.corr()\n",
    "\n",
    "print(correlation_matrix)"
   ]
  },
  {
   "cell_type": "code",
   "execution_count": null,
   "id": "0dac07bf-0a62-4104-8dbe-0eca0ba3c84e",
   "metadata": {},
   "outputs": [],
   "source": [
    "# Создаем датасет с временем начала сеансов просмотра фильмов\n",
    "data = {\n",
    "    'Время начала': ['2023-09-13 18:30:00', '2023-09-13 19:45:00', '2023-09-14 14:15:00'],\n",
    "    'Пользователь': ['Пользователь A', 'Пользователь B', 'Пользователь A']\n",
    "}\n",
    "df = pd.DataFrame(data)"
   ]
  },
  {
   "cell_type": "code",
   "execution_count": null,
   "id": "821def40-5fcd-4b1c-96f1-2051df5b3ed3",
   "metadata": {},
   "outputs": [],
   "source": [
    "# Преобразуем столбец времени в формат datetime\n",
    "df['Время начала'] = pd.to_datetime(df['Время начала'])"
   ]
  },
  {
   "cell_type": "code",
   "execution_count": null,
   "id": "82e0424c-c5b9-49b8-bf67-2f91d59ab8b6",
   "metadata": {},
   "outputs": [],
   "source": [
    "# Группируем данные по пользователям и анализируем среднее время между сеансами\n",
    "user_sessions = df.groupby('Пользователь')['Время начала'].diff().mean()\n",
    "print(user_sessions)"
   ]
  },
  {
   "cell_type": "code",
   "execution_count": null,
   "id": "c8b56563-81b4-408f-b355-b2f146183e4a",
   "metadata": {},
   "outputs": [],
   "source": [
    "# Создаем случайный датасет оценок фильмов\n",
    "ratings = np.random.randint(1, 6, (100, 5))"
   ]
  },
  {
   "cell_type": "code",
   "execution_count": null,
   "id": "03a09523-a391-4c5d-8af5-e431c6536c15",
   "metadata": {},
   "outputs": [],
   "source": [
    "# Применяем метод K-средних для кластеризации пользователей\n",
    "kmeans = KMeans(n_clusters=3)\n",
    "kmeans.fit(ratings)"
   ]
  },
  {
   "cell_type": "code",
   "execution_count": null,
   "id": "87204f66-50c9-4dc1-9a84-f370db01af8a",
   "metadata": {},
   "outputs": [],
   "source": [
    "# Выводим центры кластеров\n",
    "print(kmeans.cluster_centers_)"
   ]
  },
  {
   "cell_type": "code",
   "execution_count": null,
   "id": "3d7cc179-4251-4622-bda5-fde0102902c4",
   "metadata": {},
   "outputs": [],
   "source": [
    "# Создаем датасет с жанрами фильмов\n",
    "data = {\n",
    "    'Фильм': ['Фильм 1', 'Фильм 2', 'Фильм 3'],\n",
    "    'Жанры': ['комедия', 'боевик', 'драма']\n",
    "}\n",
    "df = pd.DataFrame(data)"
   ]
  },
  {
   "cell_type": "code",
   "execution_count": null,
   "id": "8f377b1d-6b99-4f01-b574-f13921c8186e",
   "metadata": {},
   "outputs": [],
   "source": [
    "# Преобразуем жанры в числовые признаки с помощью TF-IDF\n",
    "tfidf_vectorizer = TfidfVectorizer()\n",
    "tfidf_matrix = tfidf_vectorizer.fit_transform(df['Жанры'])"
   ]
  },
  {
   "cell_type": "code",
   "execution_count": null,
   "id": "f8db1487-da05-477f-9e88-94bcb58e4a6a",
   "metadata": {},
   "outputs": [],
   "source": [
    "# Применяем метод K-средних для кластеризации фильмов по жанрам\n",
    "kmeans = KMeans(n_clusters=2)\n",
    "kmeans.fit(tfidf_matrix.toarray())"
   ]
  },
  {
   "cell_type": "code",
   "execution_count": null,
   "id": "f1013165-3aa6-4007-853f-804fd6ee7b28",
   "metadata": {},
   "outputs": [],
   "source": [
    "# Выводим принадлежность фильмов к кластерам\n",
    "print(kmeans.labels_)"
   ]
  },
  {
   "cell_type": "code",
   "execution_count": null,
   "id": "669f1863-5873-4c2b-8c60-e42eaaa672c9",
   "metadata": {},
   "outputs": [],
   "source": [
    "# Создаем датасет с историей оценок пользователей\n",
    "data = {\n",
    "    'Пользователь': ['Пользователь A', 'Пользователь B', 'Пользователь C'],\n",
    "    'Фильм 1': [4, 2, 5],\n",
    "    'Фильм 2': [3, 4, 1],\n",
    "    'Фильм 3': [5, 2, 3]\n",
    "}\n",
    "df = pd.DataFrame(data)"
   ]
  },
  {
   "cell_type": "code",
   "execution_count": null,
   "id": "faebc827-6054-440a-9301-b04b474ae3a5",
   "metadata": {},
   "outputs": [],
   "source": [
    "# Масштабируем данные\n",
    "scaler = StandardScaler()\n",
    "scaled_data = scaler.fit_transform(df.iloc[:, 1:])"
   ]
  },
  {
   "cell_type": "code",
   "execution_count": null,
   "id": "cf5f601e-57ff-47b3-96ce-2a23fc40d749",
   "metadata": {},
   "outputs": [],
   "source": [
    "# Применяем метод K-средних для кластеризации пользователей\n",
    "kmeans = KMeans(n_clusters=2)\n",
    "kmeans.fit(scaled_data)"
   ]
  },
  {
   "cell_type": "code",
   "execution_count": null,
   "id": "07c927b3-5ba9-4470-9685-1eb917865716",
   "metadata": {},
   "outputs": [],
   "source": [
    "# Выводим принадлежность пользователей к кластерам\n",
    "print(kmeans.labels_)"
   ]
  },
  {
   "cell_type": "code",
   "execution_count": null,
   "id": "be987504-1289-4c14-813d-6c82a8de576a",
   "metadata": {},
   "outputs": [],
   "source": [
    "# Создаем искусственный временной ряд оценок фильмов\n",
    "date_rng = pd.date_range(start='2023-01-01', end='2023-12-31', freq='D')\n",
    "user_ratings = np.random.randint(1, 6, size=(len(date_rng)))"
   ]
  },
  {
   "cell_type": "code",
   "execution_count": null,
   "id": "8b3d7f25-b354-4d1a-9307-0b0ea6465efd",
   "metadata": {},
   "outputs": [],
   "source": [
    "# Создаем DataFrame\n",
    "df = pd.DataFrame({'Date': date_rng, 'User_Rating': user_ratings})\n",
    "df.set_index('Date', inplace=True)"
   ]
  },
  {
   "cell_type": "code",
   "execution_count": null,
   "id": "1139aa50-b88c-4bab-8d36-147fb628bd4a",
   "metadata": {},
   "outputs": [],
   "source": [
    "# Визуализируем временной ряд\n",
    "plt.figure(figsize=(12, 6))\n",
    "plt.plot(df.index, df['User_Rating'], marker='o')\n",
    "plt.title('Временной ряд оценок фильмов')\n",
    "plt.xlabel('Дата')\n",
    "plt.ylabel('Оценка пользователя')\n",
    "plt.grid(True)\n",
    "plt.show()"
   ]
  },
  {
   "cell_type": "code",
   "execution_count": null,
   "id": "bb18ab31-45c5-4f23-b964-bb927920e361",
   "metadata": {},
   "outputs": [],
   "source": [
    "# Сглаживание скользящим средним для выявления сезонных паттернов\n",
    "window_size = 7  # размер окна\n",
    "df['Smoothed_Rating'] = df['User_Rating'].rolling(window=window_size).mean()"
   ]
  },
  {
   "cell_type": "code",
   "execution_count": null,
   "id": "76d2ccd9-841d-419f-a08b-3182939e106c",
   "metadata": {},
   "outputs": [],
   "source": [
    "# Визуализируем сглаженный временной ряд\n",
    "plt.figure(figsize=(12, 6))\n",
    "plt.plot(df.index, df['Smoothed_Rating'], label=f'Smoothed (Window Size={window_size})', color='red')\n",
    "plt.title('Сглаженный временной ряд оценок фильмов')\n",
    "plt.xlabel('Дата')\n",
    "plt.ylabel('Сглаженная оценка')\n",
    "plt.grid(True)\n",
    "plt.legend()\n",
    "plt.show()"
   ]
  },
  {
   "cell_type": "code",
   "execution_count": null,
   "id": "bc96a185-a749-45c9-9919-4a37a9c2c009",
   "metadata": {},
   "outputs": [],
   "source": [
    "# Создаем датасет\n",
    "reader = Reader(rating_scale=(1, 5))\n",
    "data = Dataset.load_from_df(df[['user_id', 'movie_id', 'rating']], reader)"
   ]
  },
  {
   "cell_type": "code",
   "execution_count": null,
   "id": "f34546e1-3711-4128-ad69-03be6fe823eb",
   "metadata": {},
   "outputs": [],
   "source": [
    "# Используем алгоритм коллаборативной фильтрации\n",
    "sim_options = {'name': 'cosine', 'user_based': False}\n",
    "algo = KNNBasic(sim_options=sim_options)"
   ]
  },
  {
   "cell_type": "code",
   "execution_count": null,
   "id": "9c604eb0-ba5c-4e63-9afa-12a413278898",
   "metadata": {},
   "outputs": [],
   "source": [
    "# Оцениваем модель с помощью кросс-валидации\n",
    "cross_validate(algo, data, measures=['RMSE', 'MAE'], cv=5, verbose=True)"
   ]
  },
  {
   "cell_type": "code",
   "execution_count": null,
   "id": "391079d7-c87b-4e45-be42-0d792cc6585a",
   "metadata": {},
   "outputs": [],
   "source": [
    "def content_based_recommendations(user_profile, movies, top_n=10):\n",
    "    # Вычисляем схожесть между профилем пользователя и фильмами\n",
    "    similarities = cosine_similarity(user_profile, movies)\n",
    "    \n",
    "    # Получаем топ N рекомендаций\n",
    "    top_indices = similarities.argsort()[-top_n:][::-1]\n",
    "    recommended_movies = [movies[i] for i in top_indices]\n",
    "    return recommended_movies"
   ]
  },
  {
   "cell_type": "code",
   "execution_count": null,
   "id": "6e674b55-92a3-4c0e-880c-e54c6b6bd836",
   "metadata": {},
   "outputs": [],
   "source": [
    "# Инициализация модели ALS\n",
    "als = ALS(maxIter=5, regParam=0.01, userCol=\"user_id\", itemCol=\"movie_id\", ratingCol=\"rating\")"
   ]
  },
  {
   "cell_type": "code",
   "execution_count": null,
   "id": "40435cc0-9475-4b20-ab88-15b81ff07605",
   "metadata": {},
   "outputs": [],
   "source": [
    "# Обучение модели\n",
    "model = als.fit(train_data)"
   ]
  },
  {
   "cell_type": "code",
   "execution_count": null,
   "id": "c6a118e5-f413-4190-86c8-eae67942fb72",
   "metadata": {},
   "outputs": [],
   "source": [
    "# Предсказание рейтингов для тестовых данных\n",
    "predictions = model.transform(test_data)"
   ]
  },
  {
   "cell_type": "code",
   "execution_count": null,
   "id": "0de21648-2c63-4ea3-a40d-88f835aab5b8",
   "metadata": {},
   "outputs": [],
   "source": [
    "# Оценка качества модели\n",
    "evaluator = RegressionEvaluator(metricName=\"rmse\", labelCol=\"rating\", predictionCol=\"prediction\")\n",
    "rmse = evaluator.evaluate(predictions)"
   ]
  },
  {
   "cell_type": "code",
   "execution_count": null,
   "id": "3d8b89ac-0910-4f29-b86c-f36cda493a8c",
   "metadata": {},
   "outputs": [],
   "source": [
    "# Создание модели\n",
    "model = Sequential()\n",
    "model.add(Embedding(input_dim=num_users, output_dim=50, input_length=1))\n",
    "model.add(Flatten())\n",
    "model.add(Dense(1, activation='linear'))"
   ]
  },
  {
   "cell_type": "code",
   "execution_count": null,
   "id": "3af508c5-cb94-427e-8d8c-32b049a1245f",
   "metadata": {},
   "outputs": [],
   "source": [
    "# Компиляция модели\n",
    "model.compile(optimizer='adam', loss='mean_squared_error')"
   ]
  },
  {
   "cell_type": "code",
   "execution_count": null,
   "id": "d89870f5-a1c0-4dfa-bed8-7ec052860b88",
   "metadata": {},
   "outputs": [],
   "source": [
    "# Обучение модели\n",
    "model.fit([user_ids, movie_ids], ratings, epochs=5, batch_size=64)"
   ]
  },
  {
   "cell_type": "code",
   "execution_count": null,
   "id": "e3a77fd1-f8ab-447e-912a-cd1d875400b1",
   "metadata": {},
   "outputs": [],
   "source": [
    "# Создание сетки гиперпараметров\n",
    "param_grid = {'n_epochs': [5, 10, 15], 'lr_all': [0.002, 0.005, 0.01], 'reg_all': [0.4, 0.6, 0.8]}"
   ]
  },
  {
   "cell_type": "code",
   "execution_count": null,
   "id": "819fd6f9-08b5-4e3e-87d0-7052d9094c5f",
   "metadata": {},
   "outputs": [],
   "source": [
    "# Подбор лучших гиперпараметров\n",
    "gs = GridSearchCV(SVD, param_grid, measures=['rmse', 'mae'], cv=3)\n",
    "gs.fit(data)"
   ]
  },
  {
   "cell_type": "code",
   "execution_count": null,
   "id": "4a78bb54-72ff-4770-bef1-ff9e9f2ca0ca",
   "metadata": {},
   "outputs": [],
   "source": [
    "# Получение лучших параметров и оценка качества\n",
    "best_params = gs.best_params['rmse']\n",
    "best_rmse = gs.best_score['rmse']"
   ]
  },
  {
   "cell_type": "code",
   "execution_count": null,
   "id": "67d4b5b9-888b-4bc9-bd1f-6411e1abc637",
   "metadata": {},
   "outputs": [],
   "source": [
    "# Создание профиля пользователя на основе истории просмотров и оценок\n",
    "def user_profile(user_id, user_history):\n",
    "    user_profile = {}\n",
    "    for movie_id, rating in user_history:\n",
    "        user_profile[movie_id] = rating\n",
    "    return user_profile"
   ]
  },
  {
   "cell_type": "code",
   "execution_count": null,
   "id": "5d54a45f-4523-45cb-98ed-02fc77bd1f89",
   "metadata": {},
   "outputs": [],
   "source": [
    "# Генерация персонализированных рекомендаций для пользователя\n",
    "def personalized_recommendations(user_id, user_history, all_movies):\n",
    "    user_profile_data = user_profile(user_id, user_history)\n",
    "    recommended_movies = []\n",
    "\n",
    "    for movie_id in all_movies:\n",
    "        if movie_id not in user_profile_data:\n",
    "            recommended_movies.append(movie_id)\n",
    "    \n",
    "    recommended_movies.sort(key=lambda movie_id: user_profile_data.get(movie_id, 0), reverse=True)\n",
    "    return recommended_movies"
   ]
  },
  {
   "cell_type": "code",
   "execution_count": null,
   "id": "792f10f4-5f80-43fd-a885-3b5ebf84d260",
   "metadata": {},
   "outputs": [],
   "source": [
    "# Создание модели RankNet\n",
    "def create_ranknet_model(input_dim):\n",
    "    model = keras.Sequential()\n",
    "    model.add(layers.Dense(64, activation='relu', input_dim=input_dim))\n",
    "    model.add(layers.Dense(32, activation='relu'))\n",
    "    model.add(layers.Dense(1, activation='linear'))\n",
    "    return model"
   ]
  },
  {
   "cell_type": "code",
   "execution_count": null,
   "id": "99fb1639-32a9-420a-8e45-21a4c40fc677",
   "metadata": {},
   "outputs": [],
   "source": [
    "# Обучение модели RankNet\n",
    "def train_ranknet_model(model, X, y, epochs=10):\n",
    "    model.compile(loss='mse', optimizer='adam')\n",
    "    model.fit(X, y, epochs=epochs, batch_size=32)"
   ]
  },
  {
   "cell_type": "code",
   "execution_count": null,
   "id": "19ecd0c5-49b0-46a3-a741-22d2004184b1",
   "metadata": {},
   "outputs": [],
   "source": [
    "# Обновление рекомендательной модели с учетом новой оценки пользователя\n",
    "def update_recommendation_model(model, user_id, movie_id, new_rating):\n",
    "    # Получение существующих оценок пользователя\n",
    "    user_history = get_user_history(user_id)\n",
    "\n",
    "    # Добавление новой оценки к истории пользователя\n",
    "    user_history.append((movie_id, new_rating))\n",
    "\n",
    "    # Пересчитывание профиля пользователя и персонализированных рекомендаций\n",
    "    user_profile_data = user_profile(user_id, user_history)\n",
    "    personalized_recommendations = personalized_recommendations(user_id, user_history, all_movies)\n",
    "\n",
    "    # Обновление модели с новой информацией о пользователе\n",
    "    model.update_with_user_data(user_id, user_profile_data, personalized_recommendations)"
   ]
  },
  {
   "cell_type": "code",
   "execution_count": null,
   "id": "7e9d9d7b-ceb7-424d-990e-23cf5825dccf",
   "metadata": {},
   "outputs": [],
   "source": [
    "# вычисления RMSE\n",
    "actual_ratings = [4, 3, 5, 2, 1]\n",
    "predicted_ratings = [3.8, 2.9, 4.9, 2.2, 1.2]\n",
    "rmse = np.sqrt(mean_squared_error(actual_ratings, predicted_ratings))"
   ]
  },
  {
   "cell_type": "code",
   "execution_count": 1,
   "id": "fde59945-b0f6-443e-a878-132eb59f6869",
   "metadata": {},
   "outputs": [],
   "source": [
    "# вычисления Precision и Recall\n",
    "relevant_items = [1, 2, 3, 4, 5]\n",
    "recommended_items = [1, 3, 6, 7, 8]\n",
    "precision = len(set(relevant_items) & set(recommended_items)) / len(recommended_items)\n",
    "recall = len(set(relevant_items) & set(recommended_items)) / len(relevant_items)"
   ]
  },
  {
   "cell_type": "code",
   "execution_count": null,
   "id": "1a6c0b3a-f04f-4695-8489-5e89729cc797",
   "metadata": {},
   "outputs": [],
   "source": [
    "# вычисления MAP\n",
    "def average_precision(relevant_items, recommended_items):\n",
    "    # Рассчитываем Average Precision для одного пользователя\n",
    "    precision_at_k = []\n",
    "    for k in range(1, len(recommended_items) + 1):\n",
    "        if recommended_items[k - 1] in relevant_items:\n",
    "            precision_at_k.append(len(set(relevant_items) & set(recommended_items[:k])) / k)\n",
    "    return sum(precision_at_k) / len(relevant_items)"
   ]
  },
  {
   "cell_type": "code",
   "execution_count": null,
   "id": "3124b9f7-87f1-4d74-9c29-3f0fcc154d52",
   "metadata": {},
   "outputs": [],
   "source": [
    "# Среднее значение Average Precision для всех пользователей\n",
    "average_precisions = [average_precision(user['relevant_items'], user['recommended_items']) for user in users]\n",
    "map_score = sum(average_precisions) / len(users)"
   ]
  },
  {
   "cell_type": "code",
   "execution_count": null,
   "id": "6e187dc8-bc14-4c99-b03a-5b758942fc0c",
   "metadata": {},
   "outputs": [],
   "source": [
    "# Разделение пользователей на группы A и B\n",
    "users = get_all_users()\n",
    "group_a_users = random.sample(users, len(users) // 2)\n",
    "group_b_users = list(set(users) - set(group_a_users))"
   ]
  },
  {
   "cell_type": "code",
   "execution_count": null,
   "id": "25b710c6-c4fd-456c-8602-4deb385e0b1b",
   "metadata": {},
   "outputs": [],
   "source": [
    "def update_recommendation_model(model, user_id, movie_id, new_rating):\n",
    "    # Получение существующих оценок пользователя\n",
    "    user_history = get_user_history(user_id)\n",
    "\n",
    "    # Добавление новой оценки к истории пользователя\n",
    "    user_history.append((movie_id, new_rating))\n",
    "\n",
    "    # Пересчитывание профиля пользователя и персонализированных рекомендаций\n",
    "    user_profile_data = user_profile(user_id, user_history)\n",
    "    personalized_recommendations = personalized_recommendations(user_id, user_history, all_movies)\n",
    "\n",
    "    # Обновление модели с новой информацией о пользователе\n",
    "    model.update_with_user_data(user_id, user_profile_data, personalized_recommendations)"
   ]
  }
 ],
 "metadata": {
  "kernelspec": {
   "display_name": "Python 3 (ipykernel)",
   "language": "python",
   "name": "python3"
  },
  "language_info": {
   "codemirror_mode": {
    "name": "ipython",
    "version": 3
   },
   "file_extension": ".py",
   "mimetype": "text/x-python",
   "name": "python",
   "nbconvert_exporter": "python",
   "pygments_lexer": "ipython3",
   "version": "3.10.13"
  }
 },
 "nbformat": 4,
 "nbformat_minor": 5
}
