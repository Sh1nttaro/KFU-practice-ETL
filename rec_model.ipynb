{
 "cells": [
  {
   "cell_type": "code",
   "execution_count": 118,
   "id": "abdfbcdb-9097-47a8-9f38-0f93a1dd64bf",
   "metadata": {},
   "outputs": [],
   "source": [
    "import pandas as pd\n",
    "import numpy as np\n",
    "from sklearn.metrics.pairwise import cosine_similarity\n",
    "from sklearn.decomposition import TruncatedSVD\n",
    "from sklearn.preprocessing import MultiLabelBinarizer"
   ]
  },
  {
   "cell_type": "code",
   "execution_count": 119,
   "id": "d6403697-7e64-4b90-ad8e-3d8c0f3526b6",
   "metadata": {},
   "outputs": [],
   "source": [
    "movies = pd.DataFrame({\n",
    "    'movie_id': [1, 2, 3],\n",
    "    'title': ['Movie A', 'Movie B', 'Movie C'],\n",
    "    'genres': ['Action|Adventure', 'Adventure|Fantasy', 'Comedy|Drama'],\n",
    "    'actors': ['Actor X|Actor Y', 'Actor Y|Actor Z', 'Actor X|Actor Z']\n",
    "})"
   ]
  },
  {
   "cell_type": "code",
   "execution_count": 120,
   "id": "22d298bc-ae9f-4ba1-9929-62d2244c2122",
   "metadata": {},
   "outputs": [],
   "source": [
    "ratings = pd.DataFrame({\n",
    "    'user_id': [1, 2, 1, 2, 3],\n",
    "    'movie_id': [1, 1, 2, 2, 3],\n",
    "    'rating': [4, 5, 3, 4, 2]\n",
    "})"
   ]
  },
  {
   "cell_type": "code",
   "execution_count": 121,
   "id": "c425e084-c48e-48cc-bccc-3e582a3acb34",
   "metadata": {},
   "outputs": [],
   "source": [
    "user_movie_matrix = ratings.pivot(index='user_id', columns='movie_id', values='rating').fillna(0)"
   ]
  },
  {
   "cell_type": "code",
   "execution_count": 122,
   "id": "dfa21884-ca6c-48a3-b13d-f897275c728b",
   "metadata": {},
   "outputs": [],
   "source": [
    "n_components = min(50, user_movie_matrix.shape[1] - 1)  # корректируем количество компонентов\n",
    "svd = TruncatedSVD(n_components=n_components)\n",
    "matrix_svd = svd.fit_transform(user_movie_matrix)"
   ]
  },
  {
   "cell_type": "code",
   "execution_count": 123,
   "id": "ea7a0e7d-b493-4c89-b99a-f4414cb19c03",
   "metadata": {},
   "outputs": [],
   "source": [
    "movies['features'] = movies['genres'] + '|' + movies['actors']\n",
    "movies['features_vectorized'] = movies['features'].apply(lambda x: x.split('|'))"
   ]
  },
  {
   "cell_type": "code",
   "execution_count": 124,
   "id": "ae14732b-0b85-4f16-83fe-bb99386c024f",
   "metadata": {},
   "outputs": [],
   "source": [
    "mlb = MultiLabelBinarizer()\n",
    "movie_features_matrix = mlb.fit_transform(movies['features_vectorized'])"
   ]
  },
  {
   "cell_type": "code",
   "execution_count": 125,
   "id": "9bbd2451-af12-45b6-a650-7404d73bdcfc",
   "metadata": {},
   "outputs": [],
   "source": [
    "cosine_sim = cosine_similarity(movie_features_matrix)"
   ]
  },
  {
   "cell_type": "code",
   "execution_count": 126,
   "id": "be7a191a-9cae-43ff-a3ae-a700ea1ffc00",
   "metadata": {},
   "outputs": [],
   "source": [
    "def recommend(user_id, user_movie_matrix, matrix_svd, cosine_sim, movies, top_n=10):\n",
    "    user_ratings = user_movie_matrix.loc[user_id].values.reshape(1, -1)\n",
    "    user_pred = np.dot(user_ratings, svd.components_.T)\n",
    "\n",
    "    user_watched_movies = user_movie_matrix.columns[user_movie_matrix.loc[user_id] > 0]\n",
    "    movie_indices = [movies[movies['movie_id'] == i].index[0] for i in user_watched_movies]\n",
    "    similar_movies = cosine_sim[movie_indices].mean(axis=0)\n",
    "\n",
    "    print(\"user_pred shape:\", user_pred.shape)\n",
    "    print(\"similar_movies shape:\", similar_movies.shape)\n",
    "\n",
    "    hybrid_scores = user_pred.flatten() + similar_movies\n",
    "    hybrid_scores = hybrid_scores.argsort()[::-1]\n",
    "\n",
    "    recommended_movie_indices = [i for i in hybrid_scores if i not in movie_indices][:top_n]\n",
    "    recommended_movies = movies.iloc[recommended_movie_indices]\n",
    "    return recommended_movies"
   ]
  },
  {
   "cell_type": "code",
   "execution_count": 127,
   "id": "08459f62-3c44-4db1-a211-695286bcf229",
   "metadata": {},
   "outputs": [
    {
     "name": "stdout",
     "output_type": "stream",
     "text": [
      "user_pred shape: (1, 2)\n",
      "similar_movies shape: (3,)\n"
     ]
    },
    {
     "ename": "ValueError",
     "evalue": "operands could not be broadcast together with shapes (2,) (3,) ",
     "output_type": "error",
     "traceback": [
      "\u001b[1;31m---------------------------------------------------------------------------\u001b[0m",
      "\u001b[1;31mValueError\u001b[0m                                Traceback (most recent call last)",
      "Cell \u001b[1;32mIn[127], line 1\u001b[0m\n\u001b[1;32m----> 1\u001b[0m recommendations \u001b[38;5;241m=\u001b[39m \u001b[43mrecommend\u001b[49m\u001b[43m(\u001b[49m\u001b[38;5;241;43m1\u001b[39;49m\u001b[43m,\u001b[49m\u001b[43m \u001b[49m\u001b[43muser_movie_matrix\u001b[49m\u001b[43m,\u001b[49m\u001b[43m \u001b[49m\u001b[43mmatrix_svd\u001b[49m\u001b[43m,\u001b[49m\u001b[43m \u001b[49m\u001b[43mcosine_sim\u001b[49m\u001b[43m,\u001b[49m\u001b[43m \u001b[49m\u001b[43mmovies\u001b[49m\u001b[43m)\u001b[49m\n\u001b[0;32m      2\u001b[0m \u001b[38;5;28mprint\u001b[39m(recommendations)\n",
      "Cell \u001b[1;32mIn[126], line 12\u001b[0m, in \u001b[0;36mrecommend\u001b[1;34m(user_id, user_movie_matrix, matrix_svd, cosine_sim, movies, top_n)\u001b[0m\n\u001b[0;32m      9\u001b[0m \u001b[38;5;28mprint\u001b[39m(\u001b[38;5;124m\"\u001b[39m\u001b[38;5;124muser_pred shape:\u001b[39m\u001b[38;5;124m\"\u001b[39m, user_pred\u001b[38;5;241m.\u001b[39mshape)\n\u001b[0;32m     10\u001b[0m \u001b[38;5;28mprint\u001b[39m(\u001b[38;5;124m\"\u001b[39m\u001b[38;5;124msimilar_movies shape:\u001b[39m\u001b[38;5;124m\"\u001b[39m, similar_movies\u001b[38;5;241m.\u001b[39mshape)\n\u001b[1;32m---> 12\u001b[0m hybrid_scores \u001b[38;5;241m=\u001b[39m \u001b[43muser_pred\u001b[49m\u001b[38;5;241;43m.\u001b[39;49m\u001b[43mflatten\u001b[49m\u001b[43m(\u001b[49m\u001b[43m)\u001b[49m\u001b[43m \u001b[49m\u001b[38;5;241;43m+\u001b[39;49m\u001b[43m \u001b[49m\u001b[43msimilar_movies\u001b[49m\n\u001b[0;32m     13\u001b[0m hybrid_scores \u001b[38;5;241m=\u001b[39m hybrid_scores\u001b[38;5;241m.\u001b[39margsort()[::\u001b[38;5;241m-\u001b[39m\u001b[38;5;241m1\u001b[39m]\n\u001b[0;32m     15\u001b[0m recommended_movie_indices \u001b[38;5;241m=\u001b[39m [i \u001b[38;5;28;01mfor\u001b[39;00m i \u001b[38;5;129;01min\u001b[39;00m hybrid_scores \u001b[38;5;28;01mif\u001b[39;00m i \u001b[38;5;129;01mnot\u001b[39;00m \u001b[38;5;129;01min\u001b[39;00m movie_indices][:top_n]\n",
      "\u001b[1;31mValueError\u001b[0m: operands could not be broadcast together with shapes (2,) (3,) "
     ]
    }
   ],
   "source": [
    "recommendations = recommend(1, user_movie_matrix, matrix_svd, cosine_sim, movies)\n",
    "print(recommendations)"
   ]
  },
  {
   "cell_type": "code",
   "execution_count": null,
   "id": "8885393a-1a0e-4c2b-80dc-763fa9915919",
   "metadata": {},
   "outputs": [],
   "source": []
  }
 ],
 "metadata": {
  "kernelspec": {
   "display_name": "Python 3 (ipykernel)",
   "language": "python",
   "name": "python3"
  },
  "language_info": {
   "codemirror_mode": {
    "name": "ipython",
    "version": 3
   },
   "file_extension": ".py",
   "mimetype": "text/x-python",
   "name": "python",
   "nbconvert_exporter": "python",
   "pygments_lexer": "ipython3",
   "version": "3.10.13"
  }
 },
 "nbformat": 4,
 "nbformat_minor": 5
}
